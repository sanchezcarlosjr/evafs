{
 "cells": [
  {
   "cell_type": "markdown",
   "id": "c81a7025-23c1-4c60-8767-4c14fcc5f7a1",
   "metadata": {},
   "source": [
    "# Process\n",
    "\n",
    "1. Load dataset.\n",
    "2. Find embeddings.\n",
    "3. Fit model to different tasks.\n",
    "4. Vote.\n",
    "5. Valuation."
   ]
  },
  {
   "cell_type": "markdown",
   "id": "bac11679-523c-43bb-b1e9-682eced90ad3",
   "metadata": {},
   "source": [
    "# Load datasets"
   ]
  },
  {
   "cell_type": "code",
   "execution_count": 2,
   "id": "10d1c2ec82a0b4d5",
   "metadata": {
    "ExecuteTime": {
     "end_time": "2024-05-22T23:31:56.611870Z",
     "start_time": "2024-05-22T23:31:55.892555Z"
    }
   },
   "source": [
    "import scripts.exist2024\n",
    "\n",
    "datasets = scripts.exist2024.load_dataset('EXIST 2024 Memes Dataset')\n",
    "train = datasets['f_train_dataset.json']\n",
    "train"
   ],
   "outputs": []
  },
  {
   "cell_type": "code",
   "execution_count": 3,
   "id": "60501f36-dcb8-4cfc-bf55-d0f95fa6fafd",
   "metadata": {
    "ExecuteTime": {
     "end_time": "2024-05-22T23:32:22.453279Z",
     "start_time": "2024-05-22T23:32:22.449136Z"
    }
   },
   "source": [
    "# We transform the values into integer encooding\n",
    "train['score_task5'].astype('category').cat.categories, train['score_task5'].astype('category').cat.codes.unique()"
   ],
   "outputs": []
  },
  {
   "cell_type": "code",
   "execution_count": 4,
   "id": "dfcf7057-5a3c-48eb-8c28-b64736ac420c",
   "metadata": {},
   "source": [
    "train = datasets['f_train_dataset.json'].encode_memes(\"EXIST 2024 Memes Dataset\", \"training\", \"memes\")\n",
    "train"
   ],
   "outputs": []
  },
  {
   "cell_type": "code",
   "execution_count": 5,
   "id": "d00a144c-8b27-4adc-8a72-277256a89441",
   "metadata": {
    "ExecuteTime": {
     "end_time": "2024-05-22T23:33:18.742562Z",
     "start_time": "2024-05-22T23:33:18.731572Z"
    }
   },
   "source": [
    "val = datasets['f_val_dataset.json'].encode_memes(\"EXIST 2024 Memes Dataset\", \"training\", \"memes\")\n",
    "val"
   ],
   "outputs": []
  },
  {
   "cell_type": "markdown",
   "id": "080cc638-4e5f-421d-8dca-dc6bb170788d",
   "metadata": {},
   "source": [
    "# Utility matrix"
   ]
  },
  {
   "cell_type": "code",
   "execution_count": 6,
   "id": "7399f6df82b09be5",
   "metadata": {
    "ExecuteTime": {
     "end_time": "2024-05-22T23:45:49.526008Z",
     "start_time": "2024-05-22T23:45:47.221995Z"
    }
   },
   "source": [
    "train.loc[:(6*20)-1].utility_matrix(\"score_task4\")"
   ],
   "outputs": []
  },
  {
   "cell_type": "markdown",
   "id": "7f73b67e-538d-48f7-bae8-cc1a4702edbd",
   "metadata": {},
   "source": [
    "# Training in both datasets"
   ]
  },
  {
   "cell_type": "code",
   "execution_count": null,
   "id": "bbb38b9303b96d25",
   "metadata": {
    "ExecuteTime": {
     "end_time": "2024-05-10T01:30:36.960427Z",
     "start_time": "2024-05-10T01:30:36.956332Z"
    }
   },
   "source": [
    "# models = train.find_embedding().fit([\"score_task4\", \"score_task5\", \"score_task6\"])\n",
    "# validation_with_predictions = train.predict(score, models)\n",
    "import pandas as pd\n",
    "models = pd.read_parquet('../data/vectorstore.parquet').fit([\"score_task4\", \"score_task5\", \"score_task6\"])\n",
    "models"
   ],
   "outputs": []
  },
  {
   "cell_type": "code",
   "execution_count": null,
   "id": "ad0d5de9-5410-48e0-8105-839ddcc67e9f",
   "metadata": {},
   "source": [
    "tra"
   ],
   "outputs": []
  },
  {
   "cell_type": "markdown",
   "id": "0dd3e842-2e90-47e7-8e63-4c37e040ab3a",
   "metadata": {},
   "source": [
    "# Find embeddings"
   ]
  },
  {
   "cell_type": "code",
   "execution_count": 17,
   "id": "a53f97ac12214072",
   "metadata": {
    "ExecuteTime": {
     "end_time": "2024-05-10T01:32:17.630541Z",
     "start_time": "2024-05-10T01:32:07.064344Z"
    }
   },
   "source": [
    "import numpy as np\n",
    "from langchain_experimental.open_clip import OpenCLIPEmbeddings\n",
    "\n",
    "# Embe images or text\n",
    "clip_embd = OpenCLIPEmbeddings(model_name=\"ViT-L-14\", checkpoint=\"laion2b_s32b_b82k\")"
   ],
   "outputs": []
  },
  {
   "cell_type": "markdown",
   "id": "6fd25aa1-8229-4b7a-afb5-339a696d92ca",
   "metadata": {},
   "source": [
    "## Training"
   ]
  },
  {
   "cell_type": "code",
   "execution_count": 18,
   "id": "6a8b6450aecbbd43",
   "metadata": {
    "ExecuteTime": {
     "start_time": "2024-05-10T01:32:32.773882Z"
    }
   },
   "source": [
    "embeddings = clip_embd.embed_image(paths)"
   ],
   "outputs": []
  },
  {
   "cell_type": "code",
   "execution_count": 57,
   "id": "c65fc1ac-bca8-43d4-b301-0ea1fabd72f4",
   "metadata": {},
   "source": [
    "profile_embeddings = clip_embd.embed_documents(profiles)"
   ],
   "outputs": []
  },
  {
   "cell_type": "code",
   "execution_count": 53,
   "id": "b2ebaef1d37d1417",
   "metadata": {},
   "source": [
    "import pandas as pd\n",
    "image_embeddings = pd.concat([paths.reset_index(), pd.Series(embeddings)], axis=1).rename(columns={0: \"item_embeddings\"})\n",
    "image_embeddings"
   ],
   "outputs": []
  },
  {
   "cell_type": "code",
   "execution_count": 59,
   "id": "6b8f1372-b94a-4e26-a50e-f394406bdfaf",
   "metadata": {},
   "source": [
    "import pandas as pd\n",
    "profile_dataframe_with_embeddings = pd.concat([profiles.reset_index(), pd.Series(profile_embeddings)], axis=1).rename(columns={0: \"profile_embeddings\"})\n",
    "profile_dataframe_with_embeddings"
   ],
   "outputs": []
  },
  {
   "cell_type": "code",
   "execution_count": 33,
   "id": "55862009-ce5d-4c07-a09a-b34ea2856730",
   "metadata": {},
   "source": [
    "image_embeddings.to_parquet('train_dataset_memes_images.parquet')"
   ],
   "outputs": []
  },
  {
   "cell_type": "code",
   "execution_count": 33,
   "id": "81105add-85e5-405f-bc1d-9fb75c315720",
   "metadata": {},
   "source": [
    "image_embeddings.to_parquet('train_dataset_memes_images.parquet')"
   ],
   "outputs": []
  },
  {
   "cell_type": "code",
   "execution_count": 68,
   "id": "32c9edb3-2348-4e5a-97cd-5ff0d1538723",
   "metadata": {},
   "source": [
    "train_with_embeddings = train.merge(image_embeddings[['path', 'item_embeddings']]) \\\n",
    "     .merge(profile_dataframe_with_embeddings[['profile', 'profile_embeddings']])\n",
    "train_with_embeddings"
   ],
   "outputs": []
  },
  {
   "cell_type": "code",
   "execution_count": 96,
   "id": "64c8c8d1-584e-4bcb-b83e-6072be60e574",
   "metadata": {},
   "source": [
    "train_with_embeddings['embeddings'] = train_with_embeddings['profile_embeddings'] + train_with_embeddings['item_embeddings']\n",
    "train_with_embeddings"
   ],
   "outputs": []
  },
  {
   "cell_type": "code",
   "execution_count": 60,
   "id": "2a79370a-0214-4142-abb6-556953e1a014",
   "metadata": {},
   "source": [
    "profile_dataframe_with_embeddings.to_parquet('train_dataset_memes_profiles.parquet')"
   ],
   "outputs": []
  },
  {
   "cell_type": "code",
   "execution_count": 152,
   "id": "bf3f9b13-0510-479a-9c2d-241e8a82938b",
   "metadata": {},
   "source": [
    "X = np.array(train_with_embeddings['embeddings'].tolist())\n",
    "X.dtype"
   ],
   "outputs": []
  },
  {
   "cell_type": "code",
   "execution_count": 204,
   "id": "dc5ef585-0551-4fb2-89dd-41f1ede32e60",
   "metadata": {},
   "source": [
    "train_with_embeddings"
   ],
   "outputs": []
  },
  {
   "cell_type": "code",
   "execution_count": 210,
   "id": "c50db337-641a-40aa-8287-787475ea2f1e",
   "metadata": {},
   "source": [
    "train_with_embeddings.to_parquet('vectorstore.parquet')"
   ],
   "outputs": []
  },
  {
   "cell_type": "code",
   "execution_count": 211,
   "id": "7e3634d4-952d-4adf-a1e8-311e644e9545",
   "metadata": {},
   "source": [
    "import pandas as pd\n",
    "pd.read_parquet('vectorstore.parquet')"
   ],
   "outputs": []
  },
  {
   "cell_type": "code",
   "execution_count": 153,
   "id": "ec3c62a3-8af4-4c6c-b5ba-5f1e6559a776",
   "metadata": {},
   "source": [
    "y = train_with_embeddings['score_task4'].to_numpy()\n",
    "y"
   ],
   "outputs": []
  },
  {
   "cell_type": "code",
   "execution_count": 157,
   "id": "766094fd-1dc4-432f-b074-b3c40034247c",
   "metadata": {},
   "source": [
    "import myfm\n",
    "from sklearn.feature_extraction import DictVectorizer\n",
    "import numpy as np\n",
    "\n",
    "fm = myfm.MyFMRegressor(rank=4)\n",
    "fm.fit(X,y)\n"
   ],
   "outputs": []
  },
  {
   "cell_type": "markdown",
   "id": "dd8945d7-a9f4-4a85-bc6d-6f49956f9786",
   "metadata": {},
   "source": [
    "## Validation"
   ]
  },
  {
   "cell_type": "code",
   "execution_count": 170,
   "id": "acfd56d3-8aaa-40f6-a15e-7840564e49db",
   "metadata": {},
   "source": [
    "val_embeddings = clip_embd.embed_image(val_paths)"
   ],
   "outputs": []
  },
  {
   "cell_type": "code",
   "execution_count": 185,
   "id": "50333f10-fdf5-48ea-9cac-6a24ab9e6406",
   "metadata": {},
   "source": [
    "val_profile_embeddings = clip_embd.embed_documents(val_profiles)"
   ],
   "outputs": []
  },
  {
   "cell_type": "code",
   "execution_count": 180,
   "id": "4be8e6d8-0211-4c37-9bd1-cf0a96f69839",
   "metadata": {},
   "source": [
    "val_image_embeddings = pd.concat([val_paths.reset_index(), pd.Series(val_embeddings)], axis=1).rename(columns={0: \"item_embeddings\"})\n",
    "val_image_embeddings"
   ],
   "outputs": []
  },
  {
   "cell_type": "code",
   "execution_count": 186,
   "id": "47dee24e-f106-4127-a54e-74a9e2238124",
   "metadata": {},
   "source": [
    "val_profile_df_embeddings = pd.concat([val_profiles.reset_index(), pd.Series(val_profile_embeddings)], axis=1).rename(columns={0: \"profile_embeddings\"})\n",
    "val_profile_df_embeddings"
   ],
   "outputs": []
  },
  {
   "cell_type": "code",
   "execution_count": 202,
   "id": "ae56f4a2-b958-4e91-8b82-93e451f07ea3",
   "metadata": {},
   "source": [
    "import pandas as pd\n",
    "val.merge(val_profile_df_embeddings[['profile', 'profile_embeddings']])\n"
   ],
   "outputs": []
  },
  {
   "cell_type": "code",
   "execution_count": null,
   "id": "c64c8ec1-b507-4cb8-9234-f509501285d2",
   "metadata": {},
   "source": [
    "val_with_embeddings.to_parquet('val_dataset_memes.parquet')"
   ],
   "outputs": []
  },
  {
   "cell_type": "code",
   "execution_count": null,
   "id": "ff2a3188-1640-4d10-bfd6-75c317ad5b46",
   "metadata": {},
   "source": [
    "X_val = np.array(val_with_embeddings['embeddings'].tolist())\n",
    "y_val = np.array(val_with_embeddings['score_task4'].tolist())"
   ],
   "outputs": []
  },
  {
   "cell_type": "markdown",
   "id": "0c363b2a-45da-40bc-a0da-147059c9f613",
   "metadata": {},
   "source": [
    "# Report Task 4"
   ]
  },
  {
   "cell_type": "code",
   "execution_count": null,
   "id": "45a62be6-4b30-41a5-a369-e266a087060e",
   "metadata": {},
   "source": [
    "from pyevall.evaluation import PyEvALLEvaluation\n",
    "from pyevall.utils.utils import PyEvALLUtils\n",
    "\n",
    "predictions = 'EXIST2024_dev_task1_majority_class_hard.json'\n",
    "gold = tweet_golds(\"EXIST2024_dev_task1_gold_hard.json\")\n",
    "test = PyEvALLEvaluation()\n",
    "params= dict()\n",
    "params[PyEvALLUtils.PARAM_REPORT]= PyEvALLUtils.PARAM_OPTION_REPORT_EMBEDDED\n",
    "metrics=[\"ICM\", \"ICMNorm\" ,\"FMeasure\", \"Accuracy\", \"Precision\", \"Recall\"]\n",
    "report= test.evaluate(predictions, gold, metrics, **params)\n",
    "report.print_report()"
   ],
   "outputs": []
  },
  {
   "cell_type": "markdown",
   "id": "1385150c-160d-4aed-ba5f-2345f1ca6492",
   "metadata": {},
   "source": [
    "# Report Task 5"
   ]
  },
  {
   "cell_type": "code",
   "execution_count": null,
   "id": "17f861a4-bdf9-4ab6-90ab-b1dc35c1c5bc",
   "metadata": {},
   "source": [],
   "outputs": []
  }
 ],
 "metadata": {
  "kernelspec": {
   "display_name": "ir",
   "language": "python",
   "name": "evafs"
  },
  "language_info": {
   "codemirror_mode": {
    "name": "ipython",
    "version": 3
   },
   "file_extension": ".py",
   "mimetype": "text/x-python",
   "name": "python",
   "nbconvert_exporter": "python",
   "pygments_lexer": "ipython3",
   "version": "3.11.0"
  }
 },
 "nbformat": 4,
 "nbformat_minor": 5
}
