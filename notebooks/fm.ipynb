{
 "cells": [
  {
   "cell_type": "code",
   "execution_count": 33,
   "id": "c4c1350b-3a5c-4397-bbd4-b1639126def9",
   "metadata": {},
   "source": [
    "import myfm\n",
    "from sklearn.feature_extraction import DictVectorizer\n",
    "import numpy as np\n",
    "train = [\n",
    "\t{\"user\": \"1\", \"item\": \"5\", \"age\": 19},\n",
    "\t{\"user\": \"2\", \"item\": \"43\", \"age\": 33},\n",
    "\t{\"user\": \"3\", \"item\": \"20\", \"age\": 55},\n",
    "\t{\"user\": \"4\", \"item\": \"10\", \"age\": 20},\n",
    "]\n",
    "v = DictVectorizer()\n",
    "X = v.fit_transform(train)\n",
    "print(X.toarray())\n",
    "# print\n",
    "# [[ 19.   0.   0.   0.   1.   1.   0.   0.   0.]\n",
    "#  [ 33.   0.   0.   1.   0.   0.   1.   0.   0.]\n",
    "#  [ 55.   0.   1.   0.   0.   0.   0.   1.   0.]\n",
    "#  [ 20.   1.   0.   0.   0.   0.   0.   0.   1.]]\n",
    "y = np.asarray([0, 1, 1, 0])\n",
    "fm = myfm.MyFMRegressor(rank=4)\n",
    "fm.fit(np.array(x.tolist()),y)\n",
    "fm.predict(v.transform({\"user\": \"1\", \"item\": \"10\", \"age\": 24}))"
   ],
   "outputs": []
  },
  {
   "cell_type": "code",
   "execution_count": 32,
   "id": "42980eb1-3cd3-45a4-963b-bdb1f9abc5df",
   "metadata": {},
   "source": [
    "X.toarray().dtype"
   ],
   "outputs": []
  }
 ],
 "metadata": {
  "kernelspec": {
   "display_name": "ir",
   "language": "python",
   "name": "evafs"
  },
  "language_info": {
   "codemirror_mode": {
    "name": "ipython",
    "version": 3
   },
   "file_extension": ".py",
   "mimetype": "text/x-python",
   "name": "python",
   "nbconvert_exporter": "python",
   "pygments_lexer": "ipython3",
   "version": "3.11.0"
  }
 },
 "nbformat": 4,
 "nbformat_minor": 5
}
