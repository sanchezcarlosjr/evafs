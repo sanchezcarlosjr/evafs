{
 "cells": [
  {
   "cell_type": "code",
   "execution_count": 1,
   "id": "initial_id",
   "metadata": {
    "ExecuteTime": {
     "end_time": "2024-05-10T05:33:06.237876Z",
     "start_time": "2024-05-10T05:33:05.761653Z"
    }
   },
   "source": [
    "import scripts.exist2024\n",
    "import pandas as pd\n",
    "\n",
    "#datasets = scripts.exist2024.load_dataset('EXIST 2024 Memes Dataset')\n",
    "#test_dataset = datasets['f_test_dataset.json'].encode_test(\"EXIST 2024 Memes Dataset\", \"test\", \"memes\")\n",
    "#test_dataset_with_embeddings = test_dataset.find_embeddings()\n",
    "#test_dataset_with_embeddings\n",
    "#test_dataset_with_embeddings.to_parquet('test_vectorspace.parquet')\n",
    "test_dataset = pd.read_parquet('test_vectorspace.parquet')\n",
    "test_dataset"
   ],
   "outputs": []
  },
  {
   "cell_type": "code",
   "execution_count": 2,
   "id": "6b9ec857fbbc16e8",
   "metadata": {},
   "source": [
    "vectorstore = scripts.exist2024.load_vectorstore()\n",
    "vectorstore"
   ],
   "outputs": []
  },
  {
   "cell_type": "code",
   "execution_count": 4,
   "id": "a8752020-799c-47ad-9a49-565f85f2151f",
   "metadata": {},
   "source": [
    "task4_model = vectorstore.fit(\"score_task4\")\n",
    "task5_model = vectorstore.fit(\"score_task5\")\n",
    "task6_model = vectorstore.fit(\"score_task6\")"
   ],
   "outputs": []
  },
  {
   "cell_type": "code",
   "execution_count": 6,
   "id": "ad74666e-d86b-41f2-8880-0f43251be554",
   "metadata": {},
   "source": [
    "X_test = test_dataset.predictor_variable()"
   ],
   "outputs": []
  },
  {
   "cell_type": "code",
   "execution_count": 7,
   "id": "1dc58da7-355b-4afb-b676-08e07a94bebe",
   "metadata": {},
   "source": [
    "test_dataset_with_predictions = test_dataset.assign(\n",
    "    score_task4=task4_model.predict(X_test),\n",
    "    score_task5=task5_model.predict(X_test),\n",
    "    score_task6=task6_model.predict(X_test)\n",
    ")\n",
    "test_dataset_with_predictions"
   ],
   "outputs": []
  },
  {
   "cell_type": "code",
   "execution_count": 12,
   "id": "20654392-86ca-42d3-8eca-0187c5ddfe46",
   "metadata": {},
   "source": [
    "test_dataset_with_predictions.to_parquet(\"test_dataset_with_annotator_item_preferences\")"
   ],
   "outputs": []
  },
  {
   "cell_type": "markdown",
   "id": "fa67fd31-b781-485a-aaf6-3f1561b62315",
   "metadata": {},
   "source": [
    "# Find labels"
   ]
  },
  {
   "cell_type": "code",
   "execution_count": 2,
   "id": "bcce67b2-9f1a-4093-bef7-cc7afba4dd13",
   "metadata": {},
   "source": [
    "import scripts.exist2024\n",
    "import pandas as pd\n",
    "\n",
    "test_dataset_with_predictions = pd.read_parquet(\"test_dataset_with_annotator_item_preferences\")\n",
    "n = 1"
   ],
   "outputs": []
  },
  {
   "cell_type": "code",
   "execution_count": 3,
   "id": "9c712ed5-9873-4f42-9e85-47b55f03b60d",
   "metadata": {},
   "source": [
    "def ut4(df):\n",
    "    matrix = df.pivot(index='annotator', columns='item_id', values=\"score_task4\")\n",
    "    matrix.loc['Voting'] = matrix.mean()\n",
    "    matrix.loc['YES'] = matrix.loc['Voting'].clip(0, 1)\n",
    "    matrix.loc['NO'] =  1-matrix.loc['Voting']\n",
    "    matrix.loc['Hard'] =  matrix.loc[['YES', 'NO']].idxmax()\n",
    "    return matrix\n",
    "\n",
    "import json\n",
    "\n",
    "def write_json(filename, data):\n",
    "    with open(filename, 'w') as f:\n",
    "        json.dump(data, f)\n",
    "\n",
    "n = 100\n",
    "dt4 = ut4(test_dataset_with_predictions)\n",
    "result = [{\"test_case\": \"EXIST2024\", \"id\": col, \"value\": dt4.at['Hard', col]} for col in dt4.columns]\n",
    "task4_hard_MMICI_3 = [{\"test_case\": \"EXIST2024\", \"id\": col, \"value\": dt4.at['Hard', col]} for col in dt4.columns]\n",
    "task4_soft_MMICI_3 = [{\"test_case\": \"EXIST2024\", \"id\": col, \"value\": {\n",
    "    'YES': dt4.at['YES', col],\n",
    "    'NO': dt4.at['NO', col],\n",
    "}} for col in dt4.columns]\n",
    "\n",
    "write_json('task4_hard_MMICI_3.json', task4_hard_MMICI_3)\n",
    "write_json('task4_soft_MMICI_3.json', task4_soft_MMICI_3)"
   ],
   "outputs": []
  },
  {
   "cell_type": "code",
   "execution_count": 5,
   "id": "701fba6a-6b49-442a-b92d-024369f200f1",
   "metadata": {},
   "source": [
    "dt4['310001']"
   ],
   "outputs": []
  },
  {
   "cell_type": "code",
   "execution_count": 128,
   "id": "635f4b80-7659-4bcc-8166-334fc8edff59",
   "metadata": {},
   "source": [
    "\n",
    "def g(column):\n",
    "    t = pd.cut(x=column, bins=[0,0.75,1.5,3], labels=[\"NO\", \"DIRECT\", \"JUDGEMENTAL\"]).value_counts(sort=False) \n",
    "    exp_df = np.exp(t - np.max(t))\n",
    "    sum_of_exp = exp_df.sum()\n",
    "    softmax_df = exp_df / sum_of_exp\n",
    "    return pd.concat([column, softmax_df])\n",
    "    \n",
    "def ut5(df):\n",
    "    matrix = df.pivot(index='annotator', columns='item_id', values=\"score_task5\")\n",
    "    matrix_with_probs = matrix.apply(g)\n",
    "    matrix_with_probs.loc['Hard'] =  matrix_with_probs.loc[['NO', 'DIRECT', \"JUDGEMENTAL\"]].idxmax()\n",
    "    return matrix_with_probs\n",
    "\n",
    "n = 100\n",
    "dt5 = ut5(test_dataset_with_predictions)\n",
    "\n",
    "task5_hard_MMICI_3 = [{\"test_case\": \"EXIST2024\", \"id\": col, \"value\": dt5.at['Hard', col]} for col in dt5.columns]\n",
    "task5_soft_MMICI_3 = [{\"test_case\": \"EXIST2024\", \"id\": col, \"value\": {\n",
    "    'NO': dt5.at['NO', col],\n",
    "    'DIRECT': dt5.at['DIRECT', col],\n",
    "    'JUDGEMENTAL': dt5.at['JUDGEMENTAL', col],\n",
    "}} for col in dt5.columns]\n",
    "\n",
    "write_json('task5_hard_MMICI_3.json', task5_hard_MMICI_3)\n",
    "write_json('task5_soft_MMICI_3.json', task5_soft_MMICI_3)"
   ],
   "outputs": []
  },
  {
   "cell_type": "code",
   "execution_count": 15,
   "id": "aa8248b1-a2cf-4323-9c82-92bfafecb507",
   "metadata": {},
   "source": [
    "import scripts.exist2024 as exist2024\n",
    "\n",
    "exist2024.categories[-2] = \"NO\"\n",
    "bits = {2**index:category  for index, category in enumerate(exist2024.categories)}\n",
    "\n",
    "def decode(bitset):\n",
    "    return [value for key, value in bits.items() if key & bitset]\n",
    "\n",
    "assert decode(2**1) == ['STEREOTYPING-DOMINANCE']\n",
    "assert decode(2**0) == ['IDEOLOGICAL-INEQUALITY']\n",
    "assert decode(3) == ['IDEOLOGICAL-INEQUALITY', 'STEREOTYPING-DOMINANCE']\n",
    "assert decode(0b000101) == ['IDEOLOGICAL-INEQUALITY', 'OBJECTIFICATION']"
   ],
   "outputs": []
  },
  {
   "cell_type": "code",
   "execution_count": 16,
   "id": "ccb2a32b-42e3-4f38-98c5-d7b09967ed0e",
   "metadata": {},
   "source": [
    "categories = exist2024.categories[:-1]\n",
    "categories"
   ],
   "outputs": []
  },
  {
   "cell_type": "code",
   "execution_count": 8,
   "id": "8324418c-ba7d-4748-9264-cee3677b9312",
   "metadata": {},
   "source": [
    "def g(column):\n",
    "    column_rounded = column.dropna().round().astype(int)\n",
    "    counter = [0]*len(categories)\n",
    "    for key, value in enumerate(column_rounded):\n",
    "     i = 0\n",
    "     while column_rounded.iloc[key] > 0:\n",
    "       counter[i] += column_rounded.iloc[key] & 1\n",
    "       column_rounded.iloc[key] = column_rounded.iloc[key] >> 1\n",
    "       i = i+1\n",
    "    for index, category in enumerate(categories):\n",
    "        column[category] = counter[index]/len(categories)\n",
    "    column['Hard'] = column[categories][column[categories] >= 0.5].index.values\n",
    "    return column\n",
    "    \n"
   ],
   "outputs": []
  },
  {
   "cell_type": "code",
   "execution_count": 92,
   "id": "132c9985-526d-428c-9de8-ec9448cd53fe",
   "metadata": {},
   "source": [
    "def g(column):\n",
    "    print(column)\n",
    "    column_rounded = column.round().astype(int)\n",
    "    return column\n",
    "    \n"
   ],
   "outputs": []
  },
  {
   "cell_type": "code",
   "execution_count": 17,
   "id": "4e8173bb-96e9-4390-a4b0-49a023fa8685",
   "metadata": {},
   "source": [
    "def ut6(df):\n",
    "    matrix = df.pivot(index='annotator', columns='item_id', values=\"score_task6\")\n",
    "    matrix = matrix.apply(g)\n",
    "    return matrix\n",
    "\n",
    "n = 100\n",
    "dt6 = ut6(\n",
    "    test_dataset_with_predictions.assign(\n",
    "      score_task6=test_dataset_with_predictions['score_task6'].clip(0,32)\n",
    "    )\n",
    ")\n",
    "\n",
    "dt6"
   ],
   "outputs": []
  },
  {
   "cell_type": "code",
   "execution_count": 110,
   "id": "42406c56-5ec6-412b-a751-94f9039e9290",
   "metadata": {},
   "source": [
    "dt6.loc['SEXUAL-VIOLENCE'].value_counts().plot(kind='bar')"
   ],
   "outputs": []
  },
  {
   "cell_type": "code",
   "execution_count": 135,
   "id": "dce606c6-6780-4558-b5a9-a6f0d5a97208",
   "metadata": {},
   "source": [
    "task6_hard_MMICI_3 = [{\"test_case\": \"EXIST2024\", \"id\": col, \"value\": list( dt6.at['Hard', col])} for col in dt6.columns]\n",
    "\n",
    "task6_soft_MMICI_3 = [{\"test_case\": \"EXIST2024\", \"id\": col, \"value\": {\n",
    "    category: dt6.at[category, col] for category in categories\n",
    "}} for col in dt6.columns]\n",
    "\n",
    "write_json('task6_hard_MMICI_3.json', task6_hard_MMICI_3)\n",
    "write_json('task6_soft_MMICI_3.json', task6_soft_MMICI_3)"
   ],
   "outputs": []
  },
  {
   "cell_type": "code",
   "execution_count": 123,
   "id": "aac2cd78-dcb6-42f5-899e-82435ddf06f3",
   "metadata": {},
   "source": [
    "dt5.loc['Hard'].value_counts().plot(kind='bar')"
   ],
   "outputs": []
  },
  {
   "cell_type": "code",
   "execution_count": 18,
   "id": "767deb4c-08b4-4aec-a664-94f4e1c4d829",
   "metadata": {},
   "source": [
    "test_dataset_with_predictions.plot.hist(column=[\"score_task4\"], figsize=(10, 8))"
   ],
   "outputs": []
  },
  {
   "cell_type": "code",
   "execution_count": 9,
   "id": "1a00d35c-8759-491e-86f5-ddffccf8c6f3",
   "metadata": {},
   "source": [
    "test_dataset_with_predictions.plot.hist(column=[\"score_task5\"], figsize=(10, 8))"
   ],
   "outputs": []
  },
  {
   "cell_type": "code",
   "execution_count": 184,
   "id": "a64d28b9-fa19-44e7-8ef6-9555f3999a12",
   "metadata": {},
   "source": [
    "test_dataset_with_predictions[['score_task6']].clip(0,32).max()"
   ],
   "outputs": []
  },
  {
   "cell_type": "code",
   "execution_count": 8,
   "id": "2907ebdc-dd59-4b3c-b56f-efa0f5c08286",
   "metadata": {},
   "source": [
    "test_dataset_with_predictions.plot.hist(column=[\"score_task6\"], figsize=(10, 8))"
   ],
   "outputs": []
  }
 ],
 "metadata": {
  "kernelspec": {
   "display_name": "ir",
   "language": "python",
   "name": "evafs"
  },
  "language_info": {
   "codemirror_mode": {
    "name": "ipython",
    "version": 3
   },
   "file_extension": ".py",
   "mimetype": "text/x-python",
   "name": "python",
   "nbconvert_exporter": "python",
   "pygments_lexer": "ipython3",
   "version": "3.11.0"
  }
 },
 "nbformat": 4,
 "nbformat_minor": 5
}
