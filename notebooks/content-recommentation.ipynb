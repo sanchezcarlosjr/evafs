{
 "cells": [
  {
   "cell_type": "code",
   "execution_count": 3,
   "id": "ee932628-f0db-4852-8979-e0acbbae9a94",
   "metadata": {},
   "source": [
    "%run helpers.py"
   ],
   "outputs": []
  },
  {
   "cell_type": "code",
   "execution_count": 14,
   "id": "8d263563-05e3-49f6-8358-0f636403a66c",
   "metadata": {},
   "source": [
    "from surprise import Dataset, SVD\n",
    "from surprise.model_selection import cross_validate\n",
    "\n",
    "\n",
    "# Load the movielens-100k dataset (download it if needed),\n",
    "data = Dataset.load_builtin(\"ml-100k\")\n",
    "\n",
    "# We'll use the famous SVD algorithm.\n",
    "algo = SVD()\n",
    "\n",
    "# Run 5-fold cross-validation and print results\n",
    "cross_validate(algo, data, measures=[\"RMSE\", \"MAE\"], cv=5, verbose=True)"
   ],
   "outputs": []
  },
  {
   "cell_type": "code",
   "execution_count": 30,
   "id": "7d1a54bd-4cdb-4928-b14d-9db6ada6c671",
   "metadata": {},
   "source": [
    "uid = str(621)  # raw user id (as in the ratings file). They are **strings**!\n",
    "iid = str(386)  # raw item id (as in the ratings file). They are **strings**!\n",
    "\n",
    "# get a prediction for specific users and items.\n",
    "pred = algo.predict(uid, iid)\n",
    "pred.est"
   ],
   "outputs": []
  },
  {
   "cell_type": "code",
   "execution_count": 22,
   "id": "324f7768-cc9d-435d-bc26-e6bd7eed2a90",
   "metadata": {},
   "source": [
    "import surprise\n",
    "import pandas as pd\n",
    "\n",
    "data = surprise.Dataset.load_builtin('ml-100k')\n",
    "ddir = surprise.get_dataset_dir()\n",
    "\n",
    "item_data = pd.read_csv(f'{ddir}/ml-100k/ml-100k/u.item',\n",
    "                        sep='|',\n",
    "                        header=None,\n",
    "                        encoding='ISO-8859-1',\n",
    "                        usecols=[0, 1],\n",
    "                        names=['iid', 'item_name'])\n",
    "\n",
    "def dataset2df(ds, train=True):\n",
    "  df = pd.DataFrame(ds.all_ratings() if train else ds,\n",
    "                    columns=['uid', 'iid', 'rating'])\n",
    "  if train:\n",
    "    df.uid = df.uid.apply(trainset.to_raw_uid)\n",
    "    df.iid = df.iid.apply(trainset.to_raw_iid)\n",
    "  df.uid = df.uid.astype(int)\n",
    "  df.iid = df.iid.astype(int)\n",
    "  return pd.merge(df, item_data, how='left')\n",
    "\n",
    "def datasets2dfs(trainset, testset):\n",
    "  df_train = dataset2df(trainset)\n",
    "  df_test = dataset2df(testset, train=False)\n",
    "  return df_train, df_test"
   ],
   "outputs": []
  },
  {
   "cell_type": "code",
   "execution_count": 23,
   "id": "716a1446-28dc-4a6f-b97a-68c812cb8876",
   "metadata": {},
   "source": [
    "trainset = data.build_full_trainset()\n",
    "testset = trainset.build_anti_testset()\n",
    "df_train, df_test = datasets2dfs(trainset, testset)"
   ],
   "outputs": []
  },
  {
   "cell_type": "code",
   "execution_count": 29,
   "id": "2fad7bc3-6b64-4c6c-bf6a-0b403a792487",
   "metadata": {},
   "source": [
    "trainset, testset = surprise.model_selection.train_test_split(data, test_size=.25)\n",
    "df_train, df_test = datasets2dfs(trainset, testset)\n",
    "df_test"
   ],
   "outputs": []
  },
  {
   "cell_type": "code",
   "execution_count": null,
   "id": "4330751c-271f-43bc-ad17-60752b648c0d",
   "metadata": {},
   "source": [
    "df_test"
   ],
   "outputs": []
  }
 ],
 "metadata": {
  "kernelspec": {
   "display_name": "evafs",
   "language": "python",
   "name": "evafs"
  },
  "language_info": {
   "codemirror_mode": {
    "name": "ipython",
    "version": 3
   },
   "file_extension": ".py",
   "mimetype": "text/x-python",
   "name": "python",
   "nbconvert_exporter": "python",
   "pygments_lexer": "ipython3",
   "version": "3.11.9"
  }
 },
 "nbformat": 4,
 "nbformat_minor": 5
}
