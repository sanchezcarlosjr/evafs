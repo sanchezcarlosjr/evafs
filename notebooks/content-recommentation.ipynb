{
 "cells": [
  {
   "cell_type": "code",
   "execution_count": 3,
   "id": "ee932628-f0db-4852-8979-e0acbbae9a94",
   "metadata": {},
   "outputs": [],
   "source": [
    "%run helpers.py"
   ]
  },
  {
   "cell_type": "code",
   "execution_count": 14,
   "id": "8d263563-05e3-49f6-8358-0f636403a66c",
   "metadata": {},
   "outputs": [
    {
     "name": "stdout",
     "output_type": "stream",
     "text": [
      "Evaluating RMSE, MAE of algorithm SVD on 5 split(s).\n",
      "\n",
      "                  Fold 1  Fold 2  Fold 3  Fold 4  Fold 5  Mean    Std     \n",
      "RMSE (testset)    0.9335  0.9387  0.9339  0.9315  0.9378  0.9351  0.0027  \n",
      "MAE (testset)     0.7396  0.7390  0.7390  0.7345  0.7371  0.7378  0.0019  \n",
      "Fit time          0.33    0.40    0.32    0.31    0.31    0.33    0.03    \n",
      "Test time         0.05    0.13    0.05    0.05    0.05    0.06    0.03    \n"
     ]
    },
    {
     "data": {
      "text/plain": [
       "{'test_rmse': array([0.93347868, 0.93873719, 0.93393608, 0.93149599, 0.93781978]),\n",
       " 'test_mae': array([0.73959522, 0.73896953, 0.73904676, 0.73447846, 0.73706093]),\n",
       " 'fit_time': (0.32613563537597656,\n",
       "  0.39800143241882324,\n",
       "  0.31909799575805664,\n",
       "  0.3075110912322998,\n",
       "  0.30877208709716797),\n",
       " 'test_time': (0.0458219051361084,\n",
       "  0.12646722793579102,\n",
       "  0.04607391357421875,\n",
       "  0.04618048667907715,\n",
       "  0.046150922775268555)}"
      ]
     },
     "execution_count": 14,
     "metadata": {},
     "output_type": "execute_result"
    }
   ],
   "source": [
    "from surprise import Dataset, SVD\n",
    "from surprise.model_selection import cross_validate\n",
    "\n",
    "\n",
    "# Load the movielens-100k dataset (download it if needed),\n",
    "data = Dataset.load_builtin(\"ml-100k\")\n",
    "\n",
    "# We'll use the famous SVD algorithm.\n",
    "algo = SVD()\n",
    "\n",
    "# Run 5-fold cross-validation and print results\n",
    "cross_validate(algo, data, measures=[\"RMSE\", \"MAE\"], cv=5, verbose=True)"
   ]
  },
  {
   "cell_type": "code",
   "execution_count": 30,
   "id": "7d1a54bd-4cdb-4928-b14d-9db6ada6c671",
   "metadata": {},
   "outputs": [
    {
     "data": {
      "text/plain": [
       "3.0084553000326295"
      ]
     },
     "execution_count": 30,
     "metadata": {},
     "output_type": "execute_result"
    }
   ],
   "source": [
    "uid = str(621)  # raw user id (as in the ratings file). They are **strings**!\n",
    "iid = str(386)  # raw item id (as in the ratings file). They are **strings**!\n",
    "\n",
    "# get a prediction for specific users and items.\n",
    "pred = algo.predict(uid, iid)\n",
    "pred.est"
   ]
  },
  {
   "cell_type": "code",
   "execution_count": 22,
   "id": "324f7768-cc9d-435d-bc26-e6bd7eed2a90",
   "metadata": {},
   "outputs": [],
   "source": [
    "import surprise\n",
    "import pandas as pd\n",
    "\n",
    "data = surprise.Dataset.load_builtin('ml-100k')\n",
    "ddir = surprise.get_dataset_dir()\n",
    "\n",
    "item_data = pd.read_csv(f'{ddir}/ml-100k/ml-100k/u.item',\n",
    "                        sep='|',\n",
    "                        header=None,\n",
    "                        encoding='ISO-8859-1',\n",
    "                        usecols=[0, 1],\n",
    "                        names=['iid', 'item_name'])\n",
    "\n",
    "def dataset2df(ds, train=True):\n",
    "  df = pd.DataFrame(ds.all_ratings() if train else ds,\n",
    "                    columns=['uid', 'iid', 'rating'])\n",
    "  if train:\n",
    "    df.uid = df.uid.apply(trainset.to_raw_uid)\n",
    "    df.iid = df.iid.apply(trainset.to_raw_iid)\n",
    "  df.uid = df.uid.astype(int)\n",
    "  df.iid = df.iid.astype(int)\n",
    "  return pd.merge(df, item_data, how='left')\n",
    "\n",
    "def datasets2dfs(trainset, testset):\n",
    "  df_train = dataset2df(trainset)\n",
    "  df_test = dataset2df(testset, train=False)\n",
    "  return df_train, df_test"
   ]
  },
  {
   "cell_type": "code",
   "execution_count": 23,
   "id": "716a1446-28dc-4a6f-b97a-68c812cb8876",
   "metadata": {},
   "outputs": [],
   "source": [
    "trainset = data.build_full_trainset()\n",
    "testset = trainset.build_anti_testset()\n",
    "df_train, df_test = datasets2dfs(trainset, testset)"
   ]
  },
  {
   "cell_type": "code",
   "execution_count": 29,
   "id": "2fad7bc3-6b64-4c6c-bf6a-0b403a792487",
   "metadata": {},
   "outputs": [
    {
     "data": {
      "text/html": [
       "<div>\n",
       "<style scoped>\n",
       "    .dataframe tbody tr th:only-of-type {\n",
       "        vertical-align: middle;\n",
       "    }\n",
       "\n",
       "    .dataframe tbody tr th {\n",
       "        vertical-align: top;\n",
       "    }\n",
       "\n",
       "    .dataframe thead th {\n",
       "        text-align: right;\n",
       "    }\n",
       "</style>\n",
       "<table border=\"1\" class=\"dataframe\">\n",
       "  <thead>\n",
       "    <tr style=\"text-align: right;\">\n",
       "      <th></th>\n",
       "      <th>uid</th>\n",
       "      <th>iid</th>\n",
       "      <th>rating</th>\n",
       "      <th>item_name</th>\n",
       "    </tr>\n",
       "  </thead>\n",
       "  <tbody>\n",
       "    <tr>\n",
       "      <th>0</th>\n",
       "      <td>621</td>\n",
       "      <td>386</td>\n",
       "      <td>3.0</td>\n",
       "      <td>Addams Family Values (1993)</td>\n",
       "    </tr>\n",
       "    <tr>\n",
       "      <th>1</th>\n",
       "      <td>228</td>\n",
       "      <td>750</td>\n",
       "      <td>3.0</td>\n",
       "      <td>Amistad (1997)</td>\n",
       "    </tr>\n",
       "    <tr>\n",
       "      <th>2</th>\n",
       "      <td>203</td>\n",
       "      <td>879</td>\n",
       "      <td>4.0</td>\n",
       "      <td>Peacemaker, The (1997)</td>\n",
       "    </tr>\n",
       "    <tr>\n",
       "      <th>3</th>\n",
       "      <td>21</td>\n",
       "      <td>17</td>\n",
       "      <td>4.0</td>\n",
       "      <td>From Dusk Till Dawn (1996)</td>\n",
       "    </tr>\n",
       "    <tr>\n",
       "      <th>4</th>\n",
       "      <td>16</td>\n",
       "      <td>286</td>\n",
       "      <td>2.0</td>\n",
       "      <td>English Patient, The (1996)</td>\n",
       "    </tr>\n",
       "    <tr>\n",
       "      <th>...</th>\n",
       "      <td>...</td>\n",
       "      <td>...</td>\n",
       "      <td>...</td>\n",
       "      <td>...</td>\n",
       "    </tr>\n",
       "    <tr>\n",
       "      <th>24995</th>\n",
       "      <td>537</td>\n",
       "      <td>972</td>\n",
       "      <td>3.0</td>\n",
       "      <td>Passion Fish (1992)</td>\n",
       "    </tr>\n",
       "    <tr>\n",
       "      <th>24996</th>\n",
       "      <td>504</td>\n",
       "      <td>318</td>\n",
       "      <td>5.0</td>\n",
       "      <td>Schindler's List (1993)</td>\n",
       "    </tr>\n",
       "    <tr>\n",
       "      <th>24997</th>\n",
       "      <td>889</td>\n",
       "      <td>513</td>\n",
       "      <td>4.0</td>\n",
       "      <td>Third Man, The (1949)</td>\n",
       "    </tr>\n",
       "    <tr>\n",
       "      <th>24998</th>\n",
       "      <td>447</td>\n",
       "      <td>1028</td>\n",
       "      <td>3.0</td>\n",
       "      <td>Grumpier Old Men (1995)</td>\n",
       "    </tr>\n",
       "    <tr>\n",
       "      <th>24999</th>\n",
       "      <td>663</td>\n",
       "      <td>864</td>\n",
       "      <td>3.0</td>\n",
       "      <td>My Fellow Americans (1996)</td>\n",
       "    </tr>\n",
       "  </tbody>\n",
       "</table>\n",
       "<p>25000 rows × 4 columns</p>\n",
       "</div>"
      ],
      "text/plain": [
       "       uid   iid  rating                    item_name\n",
       "0      621   386     3.0  Addams Family Values (1993)\n",
       "1      228   750     3.0               Amistad (1997)\n",
       "2      203   879     4.0       Peacemaker, The (1997)\n",
       "3       21    17     4.0   From Dusk Till Dawn (1996)\n",
       "4       16   286     2.0  English Patient, The (1996)\n",
       "...    ...   ...     ...                          ...\n",
       "24995  537   972     3.0          Passion Fish (1992)\n",
       "24996  504   318     5.0      Schindler's List (1993)\n",
       "24997  889   513     4.0        Third Man, The (1949)\n",
       "24998  447  1028     3.0      Grumpier Old Men (1995)\n",
       "24999  663   864     3.0   My Fellow Americans (1996)\n",
       "\n",
       "[25000 rows x 4 columns]"
      ]
     },
     "execution_count": 29,
     "metadata": {},
     "output_type": "execute_result"
    }
   ],
   "source": [
    "trainset, testset = surprise.model_selection.train_test_split(data, test_size=.25)\n",
    "df_train, df_test = datasets2dfs(trainset, testset)\n",
    "df_test"
   ]
  },
  {
   "cell_type": "code",
   "execution_count": null,
   "id": "4330751c-271f-43bc-ad17-60752b648c0d",
   "metadata": {},
   "outputs": [],
   "source": [
    "df_test"
   ]
  }
 ],
 "metadata": {
  "kernelspec": {
   "display_name": "evafs",
   "language": "python",
   "name": "evafs"
  },
  "language_info": {
   "codemirror_mode": {
    "name": "ipython",
    "version": 3
   },
   "file_extension": ".py",
   "mimetype": "text/x-python",
   "name": "python",
   "nbconvert_exporter": "python",
   "pygments_lexer": "ipython3",
   "version": "3.11.9"
  }
 },
 "nbformat": 4,
 "nbformat_minor": 5
}
