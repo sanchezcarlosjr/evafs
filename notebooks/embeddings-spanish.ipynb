{
 "cells": [
  {
   "cell_type": "code",
   "execution_count": 4,
   "id": "3ba4a458-44d7-4bb5-94aa-f8b1183379f8",
   "metadata": {},
   "outputs": [],
   "source": [
    "from langchain_community.llms.huggingface_pipeline import HuggingFacePipeline\n",
    "from langchain_community.embeddings import HuggingFaceEmbeddings\n",
    "embeddings = HuggingFaceEmbeddings(model_name='Alibaba-NLP/gte-large-en-v1.5', model_kwargs={'trust_remote_code': True})"
   ]
  },
  {
   "cell_type": "code",
   "execution_count": 7,
   "id": "1ea19a91-ea24-4f7d-b2a5-6c3948ee953c",
   "metadata": {},
   "outputs": [
    {
     "data": {
      "text/plain": [
       "{'score': 0.44696318753227127}"
      ]
     },
     "execution_count": 7,
     "metadata": {},
     "output_type": "execute_result"
    }
   ],
   "source": [
    "from langchain.evaluation import load_evaluator\n",
    "\n",
    "hf_evaluator = load_evaluator(\"pairwise_embedding_distance\", embeddings=embeddings)\n",
    "hf_evaluator.evaluate_string_pairs(\n",
    "    prediction=\"Nombre\", prediction_b=\"Apellido paterno\"\n",
    ")"
   ]
  },
  {
   "cell_type": "code",
   "execution_count": 10,
   "id": "33a9f61d-b760-4644-8435-c178cf385ee2",
   "metadata": {},
   "outputs": [
    {
     "data": {
      "text/plain": [
       "{'score': 0.27666727607918995}"
      ]
     },
     "execution_count": 10,
     "metadata": {},
     "output_type": "execute_result"
    }
   ],
   "source": [
    "from langchain.evaluation import load_evaluator\n",
    "\n",
    "hf_evaluator = load_evaluator(\"pairwise_embedding_distance\", embeddings=embeddings)\n",
    "hf_evaluator.evaluate_string_pairs(\n",
    "    prediction=\"Apelido pterno\", prediction_b=\"Apellido paterno\"\n",
    ")"
   ]
  },
  {
   "cell_type": "code",
   "execution_count": 21,
   "id": "334c8869-ee66-4d83-aa38-d432d580e93a",
   "metadata": {},
   "outputs": [
    {
     "data": {
      "text/plain": [
       "{'score': 0.2628898314247776}"
      ]
     },
     "execution_count": 21,
     "metadata": {},
     "output_type": "execute_result"
    }
   ],
   "source": [
    "from langchain.evaluation import load_evaluator\n",
    "\n",
    "hf_evaluator = load_evaluator(\"pairwise_embedding_distance\", embeddings=embeddings)\n",
    "\n",
    "hf_evaluator.evaluate_string_pairs(\n",
    "    prediction=\"FECHA DE NACIMIENTO\", prediction_b=\"fecha\"\n",
    ")"
   ]
  }
 ],
 "metadata": {
  "kernelspec": {
   "display_name": "evafs",
   "language": "python",
   "name": "evafs"
  },
  "language_info": {
   "codemirror_mode": {
    "name": "ipython",
    "version": 3
   },
   "file_extension": ".py",
   "mimetype": "text/x-python",
   "name": "python",
   "nbconvert_exporter": "python",
   "pygments_lexer": "ipython3",
   "version": "3.11.9"
  }
 },
 "nbformat": 4,
 "nbformat_minor": 5
}
